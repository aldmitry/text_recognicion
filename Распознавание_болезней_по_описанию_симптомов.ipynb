{
  "nbformat": 4,
  "nbformat_minor": 0,
  "metadata": {
    "colab": {
      "name": "Распознавание болезней по описанию симптомов",
      "provenance": [],
      "collapsed_sections": [],
      "machine_shape": "hm"
    },
    "kernelspec": {
      "name": "python3",
      "display_name": "Python 3"
    },
    "accelerator": "GPU"
  },
  "cells": [
    {
      "cell_type": "code",
      "metadata": {
        "id": "9c-p9wyqmSKJ"
      },
      "source": [
        "from google.colab import files #модуль для загрузки файлов в colab\n",
        "import numpy as np #библиотека для работы с массивами данных\n",
        "import pandas as pd #библиотека для обработки и анализа данных\n",
        "import matplotlib.pyplot as plt #библиотека для визуализации данных\n",
        "import os\n",
        "import csv\n",
        "%matplotlib inline\n",
        "\n",
        "from tensorflow.keras import utils #модуль с утилитами кераса, будем использовать для вызова метода преобразования категорий в вектора\n",
        "from tensorflow.keras.models import Sequential \n",
        "# Загружаем стандартные слои нейросети(полносвязный, регуляризации, нормализации, векторного представления слов, выравнивания, активации)\n",
        "from tensorflow.keras.layers import Dense, Dropout, BatchNormalization, Embedding, Flatten, Activation\n",
        "# Загружаем сверточные слои\n",
        "from tensorflow.keras.layers import Conv1D, SpatialDropout1D, MaxPooling1D, GlobalAveragePooling1D, GlobalMaxPooling1D\n",
        "# Загружаем рекуррентные слои\n",
        "from tensorflow.keras.layers import LSTM, GRU, SimpleRNN, Bidirectional\n",
        "# Загружаем алгоритмы обучения/оптимизации\n",
        "from tensorflow.keras.optimizers import Adam, RMSprop\n",
        "\n",
        "from keras.preprocessing.text import Tokenizer, text_to_word_sequence \n",
        "from sklearn.model_selection import train_test_split \n",
        "from tensorflow.keras.preprocessing.sequence import pad_sequences # Метод для работы с последовательностями\n",
        "\n",
        "from sklearn.preprocessing import LabelEncoder \n",
        "from sklearn.model_selection import train_test_split\n",
        "\n",
        "\n",
        "import seaborn as sns\n",
        "sns.set_style(\"whitegrid\")\n"
      ],
      "execution_count": null,
      "outputs": []
    },
    {
      "cell_type": "markdown",
      "source": [
        "# Распознавание исмптомов различных забоелваний с использованием Эмбеддингов и различных архитектур нейронных сетей\n"
      ],
      "metadata": {
        "id": "itLUHkFfboD9"
      }
    },
    {
      "cell_type": "code",
      "metadata": {
        "id": "X7sTBsOrA_gb",
        "colab": {
          "base_uri": "https://localhost:8080/"
        },
        "outputId": "bb630ee0-dad4-4c89-822b-9bd2b8181337"
      },
      "source": [
        "from google.colab import drive\n",
        "drive.mount('/content/drive')"
      ],
      "execution_count": null,
      "outputs": [
        {
          "output_type": "stream",
          "text": [
            "Mounted at /content/drive\n"
          ],
          "name": "stdout"
        }
      ]
    },
    {
      "cell_type": "code",
      "metadata": {
        "id": "Dtre3w5dxN2s"
      },
      "source": [
        "# Указываем путь к базе в Google Drive, создаем папку texts и извлекаем туда базу\n",
        "!unzip -q '/content/drive/My Drive/Болезни.zip' -d /content/texts"
      ],
      "execution_count": null,
      "outputs": []
    },
    {
      "cell_type": "markdown",
      "metadata": {
        "id": "n-3FUBrrAvC_"
      },
      "source": [
        "#Предобработка"
      ]
    },
    {
      "cell_type": "code",
      "metadata": {
        "id": "yEUiSzz8AzCk"
      },
      "source": [
        "def preprocessing(xlen=50, step=10):\n",
        "    def readfile(x):\n",
        "        with open(x, 'r') as f:\n",
        "            text = f.read()\n",
        "            text = text.lower()\n",
        "            text = text.replace('\\n\\n',' ')\n",
        "            text = text.replace('\\n',' ')\n",
        "            text = text.replace('\\t',' ')\n",
        "            text = text.replace('.','. ')\n",
        "            text = text.replace(',',', ')\n",
        "            text = text.replace('!','! ')\n",
        "            text = text.replace('?','? ')\n",
        "            text = text.replace(':',': ')\n",
        "            text = text.replace(';','; ')\n",
        "            text = text.replace('(','( ')\n",
        "            text = text.replace(')',') ')\n",
        "            text = text.replace('-','- ')\n",
        "            return text\n",
        "\n",
        "    texts = []\n",
        "    classes = []\n",
        "    for i in os.listdir('/content/texts/'):\n",
        "        if  '.txt' in i:\n",
        "          temp = readfile('/content/texts/' + i)\n",
        "          texts.append(temp)\n",
        "          classes.append(i[:-4])    \n",
        "    Nclasses = len(classes)\n",
        "\n",
        "    tokenizer = Tokenizer(num_words=1999, filters='!\"#$%&()*+,-./:;<=>?@[\\\\]^_`{|}~\\t\\n', lower=True, split=' ', oov_token='unknown', char_level=False)\n",
        "    tokenizer.fit_on_texts(texts)\n",
        "    print(\"Размер словаря\", len(tokenizer.word_index.items()))\n",
        "    print(tokenizer.word_index.items())\n",
        "    tokens = tokenizer.texts_to_sequences(texts)\n",
        "\n",
        "\n",
        "    def window(x, xlen, step): \n",
        "        result = [] \n",
        "        wordsLen = len(x)\n",
        "        index = 0 \n",
        "        while (index + xlen <= wordsLen):\n",
        "          result.append(x[index:index+xlen])\n",
        "          index += step \n",
        "        return result\n",
        "\n",
        "\n",
        "    X = []\n",
        "    all_results = []\n",
        "    xlen=50 \n",
        "    step=10\n",
        "    N=0\n",
        "    for i in range(Nclasses):\n",
        "        \n",
        "          temp1 = window(tokens[i], xlen, step)\n",
        "          X.extend(temp1)\n",
        "          temp2 = []\n",
        "          for j in temp1:\n",
        "            temp2.append(classes[i])\n",
        "          all_results.extend(temp2)\n",
        "          \n",
        "    X = np.array(X)\n",
        "    print(X.shape)\n",
        "\n",
        "    encoder = LabelEncoder() \n",
        "    encoder.fit(all_results) \n",
        "    classesEncoded = encoder.transform(all_results) \n",
        "    print(encoder.classes_)\n",
        "    print(classesEncoded.shape)\n",
        "    print(classesEncoded[:5])\n",
        "\n",
        "    Y = utils.to_categorical(classesEncoded, Nclasses+1)\n",
        "    print(Y.shape) \n",
        "    print(Y[300])   \n",
        "\n",
        "    print(X.shape)\n",
        "    print(Y.shape)\n",
        "\n",
        "    return X,Y\n",
        "\n",
        "  "
      ],
      "execution_count": null,
      "outputs": []
    },
    {
      "cell_type": "code",
      "metadata": {
        "id": "zY5lQm0aOJig"
      },
      "source": [
        "X,Y = preprocessing(xlen=50, step=10)  "
      ],
      "execution_count": null,
      "outputs": []
    },
    {
      "cell_type": "code",
      "metadata": {
        "id": "aEVNfkfmM_u4"
      },
      "source": [
        "x_train, x_test, y_train, y_test = train_test_split(X, Y, test_size=0.2, stratify = Y)\n",
        "x_Train = x_train\n",
        "x_Test = x_test\n",
        "print(x_Train.shape) \n",
        "print(y_train.shape)  \n",
        "print(x_Test.shape) \n",
        "print(y_test.shape) \n"
      ],
      "execution_count": null,
      "outputs": []
    },
    {
      "cell_type": "markdown",
      "metadata": {
        "id": "GiiHj0-RINGK"
      },
      "source": [
        "# Embedding + LSTM сеть"
      ]
    },
    {
      "cell_type": "code",
      "metadata": {
        "id": "XwAE3_dRtyHv",
        "colab": {
          "base_uri": "https://localhost:8080/"
        },
        "outputId": "0226d75e-4fcd-4c21-d495-26b95af44371"
      },
      "source": [
        "res = {}\n",
        "for i in ['adam']:\n",
        "    print(\"---------------i=\",i, \"----------------------------\" )\n",
        "    model = Sequential()\n",
        "    model.add(Embedding(maxWordsCount, 1000, input_length=maxlen))\n",
        "    model.add(SpatialDropout1D(0.3))\n",
        "    model.add(BatchNormalization())\n",
        "\n",
        "    model.add(Bidirectional(LSTM(50, return_sequences=True)))\n",
        "    model.add(Bidirectional(LSTM(50)))\n",
        "    model.add(Dropout(0.3))\n",
        "    \n",
        "\n",
        "    #model.add(Flatten())\n",
        "    \n",
        "    model.add(Dense(nClasses, activation='softmax'))\n",
        "\n",
        "    model.compile(optimizer=i, \n",
        "                  loss='categorical_crossentropy', \n",
        "                  metrics=['accuracy'])\n",
        "\n",
        "    #Обучаем сеть на xTrain\n",
        "    history = model.fit(x_Train, \n",
        "                        y_train, \n",
        "                        epochs=10,\n",
        "                        batch_size=5,\n",
        "                        validation_data=(x_Test, y_test))\n",
        "    res[i] = history.history['val_accuracy']"
      ],
      "execution_count": null,
      "outputs": [
        {
          "output_type": "stream",
          "text": [
            "---------------i= adam ----------------------------\n",
            "Epoch 1/10\n",
            "125/125 [==============================] - 9s 37ms/step - loss: 2.0176 - accuracy: 0.3301 - val_loss: 2.8780 - val_accuracy: 0.2500\n",
            "Epoch 2/10\n",
            "125/125 [==============================] - 3s 28ms/step - loss: 0.3223 - accuracy: 0.9405 - val_loss: 0.7587 - val_accuracy: 0.7179\n",
            "Epoch 3/10\n",
            "125/125 [==============================] - 3s 27ms/step - loss: 0.0696 - accuracy: 0.9966 - val_loss: 0.0550 - val_accuracy: 0.9936\n",
            "Epoch 4/10\n",
            "125/125 [==============================] - 3s 27ms/step - loss: 0.0178 - accuracy: 1.0000 - val_loss: 0.0326 - val_accuracy: 0.9936\n",
            "Epoch 5/10\n",
            "125/125 [==============================] - 3s 27ms/step - loss: 0.0122 - accuracy: 1.0000 - val_loss: 0.0128 - val_accuracy: 0.9936\n",
            "Epoch 6/10\n",
            "125/125 [==============================] - 3s 27ms/step - loss: 0.0062 - accuracy: 1.0000 - val_loss: 0.0043 - val_accuracy: 1.0000\n",
            "Epoch 7/10\n",
            "125/125 [==============================] - 3s 27ms/step - loss: 0.0058 - accuracy: 1.0000 - val_loss: 0.0034 - val_accuracy: 1.0000\n",
            "Epoch 8/10\n",
            "125/125 [==============================] - 3s 27ms/step - loss: 0.0034 - accuracy: 1.0000 - val_loss: 0.0028 - val_accuracy: 1.0000\n",
            "Epoch 9/10\n",
            "125/125 [==============================] - 3s 26ms/step - loss: 0.0030 - accuracy: 1.0000 - val_loss: 0.0022 - val_accuracy: 1.0000\n",
            "Epoch 10/10\n",
            "125/125 [==============================] - 3s 27ms/step - loss: 0.0023 - accuracy: 1.0000 - val_loss: 0.0016 - val_accuracy: 1.0000\n"
          ],
          "name": "stdout"
        }
      ]
    },
    {
      "cell_type": "code",
      "metadata": {
        "colab": {
          "base_uri": "https://localhost:8080/",
          "height": 569
        },
        "id": "33yLwVOyLXP1",
        "outputId": "68e4f2f7-a000-47a0-9bc3-a3d2e3b1195a"
      },
      "source": [
        "plt.figure(figsize = (15,9))\n",
        "for i in res:\n",
        "  if i not in [10, 20, 500, 35, 300, 100, 70]:\n",
        "    plt.plot(res[i] ,  label=f'Точность при {i}')\n",
        "plt.xlabel('Эпоха обучения')\n",
        "plt.ylabel('Доля верных ответов')\n",
        "plt.legend()\n",
        "plt.title(\"Итоговая LSTM\", size = 15)\n",
        "plt.show()\n"
      ],
      "execution_count": null,
      "outputs": [
        {
          "output_type": "display_data",
          "data": {
            "image/png": "[encoded data removed]",
            "text/plain": [
              "<Figure size 1080x648 with 1 Axes>"
            ]
          },
          "metadata": {
            "tags": [],
            "needs_background": "light"
          }
        }
      ]
    },
    {
      "cell_type": "code",
      "metadata": {
        "colab": {
          "base_uri": "https://localhost:8080/"
        },
        "id": "YeUmpc98k-mK",
        "outputId": "5df6512a-2d39-47c8-c884-4612431c5142"
      },
      "source": [
        "df_new = pd.DataFrame({'Class':encoder.inverse_transform(np.argmax(y_test, axis = 1))})\n",
        "\n",
        "\n",
        "L = df_new['Class'].unique()\n",
        "N_All = df_new.shape[0]\n",
        "N_real = 0\n",
        "for i in L:             \n",
        "    \n",
        "    df1 = df_new[df_new.Class==i]   #Делаю подвыборку датафрейма, только строки с нашими болезнями\n",
        "    N = df1.shape[0]        #Общее количество записей\n",
        "    indexes = list(df1.index)\n",
        "    val = x_Test[indexes,:]    #Массив с описаниями болезней\n",
        "    \n",
        "    res = model.predict(val)                    #Предсказываю  \n",
        "    res = np.argmax(res, axis = 1)            #Извлекаю номер класса предсказанного\n",
        "    res = encoder.inverse_transform(res)        #Перевожу номер класса в название болезни\n",
        "    n = sum(res == i)                         #Количество правильых ответов\n",
        "    N_real = N_real + n\n",
        "    print( f'Класс {i} -   точность ----------{n/N*100}, % ', '-----------Количество записей класса ', i, ': ', N)\n",
        "print('В сумме', N_real/N_All*100, ' %')"
      ],
      "execution_count": null,
      "outputs": [
        {
          "output_type": "stream",
          "text": [
            "Класс Панкреатит -   точность ----------100.0, %  -----------Количество записей класса  Панкреатит :  29\n",
            "Класс Аппендицит -   точность ----------100.0, %  -----------Количество записей класса  Аппендицит :  11\n",
            "Класс Гастрит -   точность ----------100.0, %  -----------Количество записей класса  Гастрит :  16\n",
            "Класс Энтерит -   точность ----------100.0, %  -----------Количество записей класса  Энтерит :  16\n",
            "Класс Колит -   точность ----------100.0, %  -----------Количество записей класса  Колит :  23\n",
            "Класс Гепатит -   точность ----------100.0, %  -----------Количество записей класса  Гепатит :  13\n",
            "Класс Холицестит -   точность ----------100.0, %  -----------Количество записей класса  Холицестит :  16\n",
            "Класс Эзофагит -   точность ----------100.0, %  -----------Количество записей класса  Эзофагит :  15\n",
            "Класс Дуоденит -   точность ----------100.0, %  -----------Количество записей класса  Дуоденит :  9\n",
            "Класс Язва -   точность ----------100.0, %  -----------Количество записей класса  Язва :  8\n",
            "В сумме 100.0  %\n"
          ],
          "name": "stdout"
        }
      ]
    },
    {
      "cell_type": "markdown",
      "metadata": {
        "id": "K_wR1o0XXkG1"
      },
      "source": [
        "#3) Свертка. + Embedding"
      ]
    },
    {
      "cell_type": "code",
      "metadata": {
        "colab": {
          "base_uri": "https://localhost:8080/"
        },
        "id": "OS7VtM3T4RKJ",
        "outputId": "0d33f596-0913-405d-ed52-03bd35e437fb"
      },
      "source": [
        "res = {}\n",
        "for i in [1]:\n",
        "    print(\"---------------i=\",i, \"----------------------------\" )\n",
        "    model = Sequential()\n",
        "    model.add(Embedding(maxWordsCount, 2000, input_length=maxlen))\n",
        "    model.add(SpatialDropout1D(0.3))\n",
        "    model.add(BatchNormalization())\n",
        "\n",
        "    model.add(Conv1D(150, 3, activation='relu')) \n",
        "    model.add(MaxPooling1D(2))\n",
        "    model.add(Dropout(0.2))\n",
        "    model.add(BatchNormalization()) \n",
        "    model.add(Conv1D(150, 3, activation='relu')) \n",
        "    model.add(MaxPooling1D(2))\n",
        "    model.add(Dropout(0.2))\n",
        "\n",
        "    #model.add(Flatten())\n",
        "    model.add(GlobalMaxPooling1D())\n",
        "    model.add(Dense(nClasses, activation='softmax'))\n",
        "\n",
        "    model.compile(optimizer='adam', \n",
        "                  loss='categorical_crossentropy', \n",
        "                  metrics=['accuracy'])\n",
        "\n",
        "    #Обучаем сеть на xTrain\n",
        "    print(model.summary())\n",
        "    history = model.fit(x_Train, \n",
        "                        y_train, \n",
        "                        epochs=10,\n",
        "                        batch_size=5,\n",
        "                        validation_data=(x_Test, y_test))\n",
        "    res[i] = history.history['val_accuracy']"
      ],
      "execution_count": null,
      "outputs": [
        {
          "output_type": "stream",
          "text": [
            "---------------i= 1 ----------------------------\n",
            "Model: \"sequential_8\"\n",
            "_________________________________________________________________\n",
            "Layer (type)                 Output Shape              Param #   \n",
            "=================================================================\n",
            "embedding_8 (Embedding)      (None, 50, 2000)          6000000   \n",
            "_________________________________________________________________\n",
            "spatial_dropout1d_8 (Spatial (None, 50, 2000)          0         \n",
            "_________________________________________________________________\n",
            "batch_normalization_9 (Batch (None, 50, 2000)          8000      \n",
            "_________________________________________________________________\n",
            "conv1d_2 (Conv1D)            (None, 48, 150)           900150    \n",
            "_________________________________________________________________\n",
            "max_pooling1d_2 (MaxPooling1 (None, 24, 150)           0         \n",
            "_________________________________________________________________\n",
            "dropout_14 (Dropout)         (None, 24, 150)           0         \n",
            "_________________________________________________________________\n",
            "batch_normalization_10 (Batc (None, 24, 150)           600       \n",
            "_________________________________________________________________\n",
            "conv1d_3 (Conv1D)            (None, 22, 150)           67650     \n",
            "_________________________________________________________________\n",
            "max_pooling1d_3 (MaxPooling1 (None, 11, 150)           0         \n",
            "_________________________________________________________________\n",
            "dropout_15 (Dropout)         (None, 11, 150)           0         \n",
            "_________________________________________________________________\n",
            "global_max_pooling1d_1 (Glob (None, 150)               0         \n",
            "_________________________________________________________________\n",
            "dense_18 (Dense)             (None, 11)                1661      \n",
            "=================================================================\n",
            "Total params: 6,978,061\n",
            "Trainable params: 6,973,761\n",
            "Non-trainable params: 4,300\n",
            "_________________________________________________________________\n",
            "None\n",
            "Epoch 1/10\n",
            "125/125 [==============================] - 6s 38ms/step - loss: 2.2031 - accuracy: 0.4425 - val_loss: 1.9365 - val_accuracy: 0.3333\n",
            "Epoch 2/10\n",
            "125/125 [==============================] - 4s 36ms/step - loss: 0.0445 - accuracy: 0.9877 - val_loss: 1.6211 - val_accuracy: 0.3974\n",
            "Epoch 3/10\n",
            "125/125 [==============================] - 5s 36ms/step - loss: 0.0203 - accuracy: 0.9993 - val_loss: 0.8458 - val_accuracy: 0.7949\n",
            "Epoch 4/10\n",
            "125/125 [==============================] - 4s 36ms/step - loss: 0.0049 - accuracy: 1.0000 - val_loss: 0.1387 - val_accuracy: 0.9872\n",
            "Epoch 5/10\n",
            "125/125 [==============================] - 5s 36ms/step - loss: 0.0072 - accuracy: 0.9981 - val_loss: 0.0181 - val_accuracy: 1.0000\n",
            "Epoch 6/10\n",
            "125/125 [==============================] - 4s 36ms/step - loss: 0.0024 - accuracy: 1.0000 - val_loss: 0.0082 - val_accuracy: 1.0000\n",
            "Epoch 7/10\n",
            "125/125 [==============================] - 5s 36ms/step - loss: 0.0017 - accuracy: 1.0000 - val_loss: 0.0129 - val_accuracy: 0.9936\n",
            "Epoch 8/10\n",
            "125/125 [==============================] - 4s 36ms/step - loss: 0.0012 - accuracy: 1.0000 - val_loss: 0.0114 - val_accuracy: 0.9936\n",
            "Epoch 9/10\n",
            "125/125 [==============================] - 4s 36ms/step - loss: 0.0010 - accuracy: 1.0000 - val_loss: 0.0093 - val_accuracy: 0.9936\n",
            "Epoch 10/10\n",
            "125/125 [==============================] - 4s 36ms/step - loss: 8.9138e-04 - accuracy: 1.0000 - val_loss: 0.0094 - val_accuracy: 0.9936\n"
          ],
          "name": "stdout"
        }
      ]
    },
    {
      "cell_type": "code",
      "metadata": {
        "colab": {
          "base_uri": "https://localhost:8080/",
          "height": 569
        },
        "id": "nNMpxYUirmKc",
        "outputId": "5748f1a6-4861-4644-cfa2-7dcc0d8a49d6"
      },
      "source": [
        "plt.figure(figsize = (15,9))\n",
        "for i in res:\n",
        "  if i not in [-1]:\n",
        "    plt.plot(res[i] ,  label=f'Точность при {i}')\n",
        "plt.xlabel('Эпоха обучения')\n",
        "plt.ylabel('Доля верных ответов')\n",
        "plt.legend()\n",
        "plt.title(\"Итоговая Conv1D сеть\", size = 15)\n",
        "plt.show()\n"
      ],
      "execution_count": null,
      "outputs": [
        {
          "output_type": "display_data",
          "data": {
            "image/png": "[encoded data removed]",
            "text/plain": [
              "<Figure size 1080x648 with 1 Axes>"
            ]
          },
          "metadata": {
            "tags": [],
            "needs_background": "light"
          }
        }
      ]
    },
    {
      "cell_type": "code",
      "metadata": {
        "colab": {
          "base_uri": "https://localhost:8080/"
        },
        "id": "U2vOHK3RbhsE",
        "outputId": "5162907a-4497-4c9f-bfd5-96ee1d92e8b8"
      },
      "source": [
        "df_new = pd.DataFrame({'Class':encoder.inverse_transform(np.argmax(y_test, axis = 1))})\n",
        "\n",
        "\n",
        "L = df_new['Class'].unique()\n",
        "N_All = df_new.shape[0]\n",
        "N_real = 0\n",
        "for i in L:             \n",
        "    \n",
        "    df1 = df_new[df_new.Class==i]   #Делаю подвыборку датафрейма, только строки с нашими болезнями\n",
        "    N = df1.shape[0]        #Общее количество записей\n",
        "    indexes = list(df1.index)\n",
        "    val = x_Test[indexes,:]    #Массив с описаниями болезней\n",
        "    \n",
        "    res = model.predict(val)                    #Предсказываю  \n",
        "    res = np.argmax(res, axis = 1)            #Извлекаю номер класса предсказанного\n",
        "    res = encoder.inverse_transform(res)        #Перевожу номер класса в название болезни\n",
        "    n = sum(res == i)                         #Количество правильых ответов\n",
        "    N_real = N_real + n\n",
        "    print( f'Класс {i} -   точность ----------{n/N*100}, % ', '-----------Количество записей класса ', i, ': ', N)\n",
        "print('В сумме', N_real/N_All*100, ' %')"
      ],
      "execution_count": null,
      "outputs": [
        {
          "output_type": "stream",
          "text": [
            "Класс Панкреатит -   точность ----------100.0, %  -----------Количество записей класса  Панкреатит :  29\n",
            "Класс Аппендицит -   точность ----------100.0, %  -----------Количество записей класса  Аппендицит :  11\n",
            "Класс Гастрит -   точность ----------93.75, %  -----------Количество записей класса  Гастрит :  16\n",
            "Класс Энтерит -   точность ----------100.0, %  -----------Количество записей класса  Энтерит :  16\n",
            "Класс Колит -   точность ----------100.0, %  -----------Количество записей класса  Колит :  23\n",
            "Класс Гепатит -   точность ----------100.0, %  -----------Количество записей класса  Гепатит :  13\n",
            "Класс Холицестит -   точность ----------100.0, %  -----------Количество записей класса  Холицестит :  16\n",
            "Класс Эзофагит -   точность ----------100.0, %  -----------Количество записей класса  Эзофагит :  15\n",
            "Класс Дуоденит -   точность ----------100.0, %  -----------Количество записей класса  Дуоденит :  9\n",
            "Класс Язва -   точность ----------100.0, %  -----------Количество записей класса  Язва :  8\n",
            "В сумме 99.35897435897436  %\n"
          ],
          "name": "stdout"
        }
      ]
    },
    {
      "cell_type": "markdown",
      "metadata": {
        "id": "AeEkc0lwX7Ae"
      },
      "source": [
        "#4) Embedding + сложная сеть из Dense, LSTM и Conv1D"
      ]
    },
    {
      "cell_type": "code",
      "metadata": {
        "colab": {
          "base_uri": "https://localhost:8080/"
        },
        "id": "suT9w1z_3qXM",
        "outputId": "7688baf1-38f2-47ad-82ac-56fb21940c47"
      },
      "source": [
        "res = {}\n",
        "for i in [1]:\n",
        "    print(\"---------------i=\",i, \"----------------------------\" )\n",
        "    model = Sequential()\n",
        "    model.add(Embedding(maxWordsCount, 2000, input_length=maxlen))\n",
        "    model.add(SpatialDropout1D(0.3))\n",
        "    model.add(BatchNormalization())\n",
        "\n",
        "    model.add(Conv1D(150, 3, activation='relu')) \n",
        "    model.add(MaxPooling1D(2))\n",
        "    model.add(Dropout(0.2))\n",
        "    model.add(BatchNormalization()) \n",
        "    model.add(Conv1D(150, 3, activation='relu')) \n",
        "    model.add(MaxPooling1D(2))\n",
        "    model.add(Dropout(0.2))\n",
        "\n",
        "    model.add(Bidirectional(LSTM(50, return_sequences=True)))\n",
        "    model.add(Bidirectional(LSTM(50)))\n",
        "    model.add(Dropout(0.3))\n",
        "\n",
        "    #model.add(Flatten())\n",
        "    #model.add(GlobalMaxPooling1D())\n",
        "    model.add(Dense(nClasses, activation='softmax'))\n",
        "\n",
        "    model.compile(optimizer='adam', \n",
        "                  loss='categorical_crossentropy', \n",
        "                  metrics=['accuracy'])\n",
        "\n",
        "    #Обучаем сеть на xTrain\n",
        "    print(model.summary())\n",
        "    history = model.fit(x_Train, \n",
        "                        y_train, \n",
        "                        epochs=10,\n",
        "                        batch_size=5,\n",
        "                        validation_data=(x_Test, y_test))\n",
        "    res[i] = history.history['val_accuracy']"
      ],
      "execution_count": null,
      "outputs": [
        {
          "output_type": "stream",
          "text": [
            "---------------i= 1 ----------------------------\n",
            "Model: \"sequential_11\"\n",
            "_________________________________________________________________\n",
            "Layer (type)                 Output Shape              Param #   \n",
            "=================================================================\n",
            "embedding_11 (Embedding)     (None, 50, 2000)          6000000   \n",
            "_________________________________________________________________\n",
            "spatial_dropout1d_11 (Spatia (None, 50, 2000)          0         \n",
            "_________________________________________________________________\n",
            "batch_normalization_15 (Batc (None, 50, 2000)          8000      \n",
            "_________________________________________________________________\n",
            "conv1d_8 (Conv1D)            (None, 48, 150)           900150    \n",
            "_________________________________________________________________\n",
            "max_pooling1d_8 (MaxPooling1 (None, 24, 150)           0         \n",
            "_________________________________________________________________\n",
            "dropout_22 (Dropout)         (None, 24, 150)           0         \n",
            "_________________________________________________________________\n",
            "batch_normalization_16 (Batc (None, 24, 150)           600       \n",
            "_________________________________________________________________\n",
            "conv1d_9 (Conv1D)            (None, 22, 150)           67650     \n",
            "_________________________________________________________________\n",
            "max_pooling1d_9 (MaxPooling1 (None, 11, 150)           0         \n",
            "_________________________________________________________________\n",
            "dropout_23 (Dropout)         (None, 11, 150)           0         \n",
            "_________________________________________________________________\n",
            "bidirectional_8 (Bidirection (None, 11, 100)           80400     \n",
            "_________________________________________________________________\n",
            "bidirectional_9 (Bidirection (None, 100)               60400     \n",
            "_________________________________________________________________\n",
            "dropout_24 (Dropout)         (None, 100)               0         \n",
            "_________________________________________________________________\n",
            "dense_21 (Dense)             (None, 11)                1111      \n",
            "=================================================================\n",
            "Total params: 7,118,311\n",
            "Trainable params: 7,114,011\n",
            "Non-trainable params: 4,300\n",
            "_________________________________________________________________\n",
            "None\n",
            "Epoch 1/10\n",
            "125/125 [==============================] - 11s 51ms/step - loss: 2.0615 - accuracy: 0.2780 - val_loss: 2.3757 - val_accuracy: 0.2692\n",
            "Epoch 2/10\n",
            "125/125 [==============================] - 5s 41ms/step - loss: 0.6919 - accuracy: 0.8023 - val_loss: 3.0205 - val_accuracy: 0.2308\n",
            "Epoch 3/10\n",
            "125/125 [==============================] - 5s 41ms/step - loss: 0.3396 - accuracy: 0.8978 - val_loss: 2.5394 - val_accuracy: 0.3205\n",
            "Epoch 4/10\n",
            "125/125 [==============================] - 5s 41ms/step - loss: 0.1858 - accuracy: 0.9658 - val_loss: 0.1817 - val_accuracy: 0.9359\n",
            "Epoch 5/10\n",
            "125/125 [==============================] - 5s 41ms/step - loss: 0.1597 - accuracy: 0.9514 - val_loss: 0.0490 - val_accuracy: 0.9872\n",
            "Epoch 6/10\n",
            "125/125 [==============================] - 5s 41ms/step - loss: 0.1688 - accuracy: 0.9537 - val_loss: 0.0846 - val_accuracy: 0.9808\n",
            "Epoch 7/10\n",
            "125/125 [==============================] - 5s 41ms/step - loss: 0.2179 - accuracy: 0.9272 - val_loss: 0.0621 - val_accuracy: 0.9808\n",
            "Epoch 8/10\n",
            "125/125 [==============================] - 5s 41ms/step - loss: 0.1061 - accuracy: 0.9705 - val_loss: 0.0076 - val_accuracy: 1.0000\n",
            "Epoch 9/10\n",
            "125/125 [==============================] - 5s 42ms/step - loss: 0.0519 - accuracy: 0.9894 - val_loss: 0.0047 - val_accuracy: 1.0000\n",
            "Epoch 10/10\n",
            "125/125 [==============================] - 5s 41ms/step - loss: 0.0992 - accuracy: 0.9655 - val_loss: 0.0213 - val_accuracy: 0.9936\n"
          ],
          "name": "stdout"
        }
      ]
    },
    {
      "cell_type": "code",
      "metadata": {
        "colab": {
          "base_uri": "https://localhost:8080/",
          "height": 569
        },
        "id": "_uHLYbpC3xm0",
        "outputId": "4d5dfa31-0e88-4477-bf8d-2edf36b09803"
      },
      "source": [
        "plt.figure(figsize = (15,9))\n",
        "for i in res:\n",
        "  \n",
        "    plt.plot(res[i] ,  label=f'Точность при {i}')\n",
        "plt.xlabel('Эпоха обучения')\n",
        "plt.ylabel('Доля верных ответов')\n",
        "plt.legend()\n",
        "plt.title(\"Итоговая смешанная сеть\", size = 15)\n",
        "plt.show()\n"
      ],
      "execution_count": null,
      "outputs": [
        {
          "output_type": "display_data",
          "data": {
            "image/png": "[encoded data removed]",
            "text/plain": [
              "<Figure size 1080x648 with 1 Axes>"
            ]
          },
          "metadata": {
            "tags": [],
            "needs_background": "light"
          }
        }
      ]
    },
    {
      "cell_type": "code",
      "metadata": {
        "id": "sP3ytkM13unh",
        "colab": {
          "base_uri": "https://localhost:8080/"
        },
        "outputId": "e2ef9901-581b-4be8-a914-78bda6256bd3"
      },
      "source": [
        "df_new = pd.DataFrame({'Class':encoder.inverse_transform(np.argmax(y_test, axis = 1))})\n",
        "\n",
        "\n",
        "L = df_new['Class'].unique()\n",
        "N_All = df_new.shape[0]\n",
        "N_real = 0\n",
        "for i in L:             \n",
        "    \n",
        "    df1 = df_new[df_new.Class==i]   #Делаю подвыборку датафрейма, только строки с нашими болезнями\n",
        "    N = df1.shape[0]        #Общее количество записей\n",
        "    indexes = list(df1.index)\n",
        "    val = x_Test[indexes,:]    #Массив с описаниями болезней\n",
        "    \n",
        "    res = model.predict(val)                    #Предсказываю  \n",
        "    res = np.argmax(res, axis = 1)            #Извлекаю номер класса предсказанного\n",
        "    res = encoder.inverse_transform(res)        #Перевожу номер класса в название болезни\n",
        "    n = sum(res == i)                         #Количество правильых ответов\n",
        "    N_real = N_real + n\n",
        "    print( f'Класс {i} -   точность ----------{n/N*100}, % ', '-----------Количество записей класса ', i, ': ', N)\n",
        "print('В сумме', N_real/N_All*100, ' %')"
      ],
      "execution_count": null,
      "outputs": [
        {
          "output_type": "stream",
          "text": [
            "Класс Панкреатит -   точность ----------96.55172413793103, %  -----------Количество записей класса  Панкреатит :  29\n",
            "Класс Аппендицит -   точность ----------100.0, %  -----------Количество записей класса  Аппендицит :  11\n",
            "Класс Гастрит -   точность ----------100.0, %  -----------Количество записей класса  Гастрит :  16\n",
            "Класс Энтерит -   точность ----------100.0, %  -----------Количество записей класса  Энтерит :  16\n",
            "Класс Колит -   точность ----------100.0, %  -----------Количество записей класса  Колит :  23\n",
            "Класс Гепатит -   точность ----------100.0, %  -----------Количество записей класса  Гепатит :  13\n",
            "Класс Холицестит -   точность ----------100.0, %  -----------Количество записей класса  Холицестит :  16\n",
            "Класс Эзофагит -   точность ----------100.0, %  -----------Количество записей класса  Эзофагит :  15\n",
            "Класс Дуоденит -   точность ----------100.0, %  -----------Количество записей класса  Дуоденит :  9\n",
            "Класс Язва -   точность ----------100.0, %  -----------Количество записей класса  Язва :  8\n",
            "В сумме 99.35897435897436  %\n"
          ],
          "name": "stdout"
        }
      ]
    }
  ]
}